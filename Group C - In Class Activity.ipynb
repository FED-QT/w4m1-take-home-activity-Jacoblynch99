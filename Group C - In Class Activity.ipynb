{
 "cells": [
  {
   "cell_type": "markdown",
   "id": "1e16d933",
   "metadata": {},
   "source": [
    "---\n",
    "\n",
    "## 📝 Group 3\n",
    "\n",
    "### E: `count_vowels(s) → int`\n",
    "\n",
    "**Scenario:**\n",
    "Your readability analyzer scores text by vowel density.\n",
    "\n",
    "**Problem:**\n",
    "Count how many vowels (`a`, `e`, `i`, `o`, `u`, in either case) appear in `s` and return that count. If `s` is empty, return `0`.\n",
    "\n",
    "**Examples:**\n",
    "\n",
    "```python\n",
    "count_vowels(\"Education\")   # → 5\n",
    "count_vowels(\"rhythm\")      # → 0\n",
    "count_vowels(\"\")            # → 0\n",
    "```\n",
    "\n",
    "    \n",
    "---\n",
    "\n",
    "### M: `compress_tokens(s, tokens) → str`\n",
    "\n",
    "**Scenario:**\n",
    "A lightweight preprocessor highlights keywords in a mini‑DSL: whenever a token appears, it must be uppercased.\n",
    "\n",
    "**Problem:**\n",
    "Given text `s` and `tokens` as a comma‑separated list (e.g. `\"if,else,for\"`), return a new string where each occurrence of any token in `s` is converted to uppercase; leave other characters unchanged.\n",
    "\n",
    "**Examples:**\n",
    "\n",
    "```python\n",
    "compress_tokens(\"if x else y for z\", \"if,else,for\")\n",
    "# → \"IF x ELSE y FOR z\"\n",
    "\n",
    "compress_tokens(\"foo if bar\", \"if,bar\")\n",
    "# → \"foo IF BAR\"\n",
    "\n",
    "compress_tokens(\"burgers hotdogs ice\", \"ice,burgers\")\n",
    "# → \"BURGERS hotdogs ICE\"\n",
    "```\n",
    "\n",
    "---\n",
    "\n",
    "### H: `rotate_string(s, n) → str`\n",
    "\n",
    "**Scenario:**\n",
    "Your cyclic‑buffer manager must rotate log‑buffer contents to implement a wrap‑around view.\n",
    "\n",
    "**Problem:**\n",
    "Rotate `s` to the right by `n` positions (wrapping characters from the end to the front). If `n` > `len(s)`, use `n % len(s)`. An empty string remains unchanged.\n",
    "\n",
    "**Examples:**\n",
    "\n",
    "```python\n",
    "rotate_string(\"hello\", 2)   # → \"lohel\"\n",
    "rotate_string(\"abc\", 4)     # → \"cab\"\n",
    "rotate_string(\"\", 5)        # → \"\"\n",
    "```\n",
    "\n",
    "---\n"
   ]
  },
  {
   "cell_type": "code",
   "execution_count": 13,
   "id": "163cbaf1-fb62-426b-b400-5a63196b50e1",
   "metadata": {},
   "outputs": [
    {
     "name": "stdout",
     "output_type": "stream",
     "text": [
      "hit\n",
      "hit\n",
      "hit\n",
      "3\n"
     ]
    }
   ],
   "source": [
    "def count_vowels(word):\n",
    "    counter = 0\n",
    "    for i in word:\n",
    "        if i in \"aieouAIEOU\":\n",
    "            counter += 1\n",
    "    print(counter)\n",
    "\n",
    "count_vowels(\"Education\")   # → 5\n",
    "count_vowels(\"rhythm\")      # → 0\n",
    "count_vowels(\"\")            # → 0"
   ]
  },
  {
   "cell_type": "code",
   "execution_count": 93,
   "id": "cc0ad739-0ac5-4ef8-840d-d680ee73462d",
   "metadata": {},
   "outputs": [
    {
     "name": "stdout",
     "output_type": "stream",
     "text": [
      "IF x ELSE y FOR z\n",
      "foo IF BAR\n"
     ]
    }
   ],
   "source": [
    "def compress_tokens(s, tokens):\n",
    "    result = \"\"\n",
    "    s_word = \"\"\n",
    "    token_word = \"\"\n",
    "    \n",
    "    for i, x in enumerate(s):\n",
    "        if i == len(s) - 1:\n",
    "            s_word += x\n",
    "            if s_word in tokens:\n",
    "                result += s_word.upper()\n",
    "            else:\n",
    "                result += f\"{s_word}\"\n",
    "        elif x != ' ':\n",
    "            s_word += x\n",
    "        else:\n",
    "            if s_word in tokens:\n",
    "                result += f\"{s_word.upper()} \"\n",
    "            else:\n",
    "                result += f\"{s_word} \"                  \n",
    "            s_word = \"\"\n",
    "        \n",
    "                \n",
    "    print(result)\n",
    "            \n",
    "    \n",
    "    \n",
    "compress_tokens(\"if x else y for z\", \"if,else,for\")\n",
    "# → \"IF x ELSE y FOR z\"\n",
    "\n",
    "compress_tokens(\"foo if bar\", \"if,bar\")\n",
    "# → \"foo IF BAR\"\n"
   ]
  },
  {
   "cell_type": "code",
   "execution_count": 86,
   "id": "4e21b4fc-92b1-498a-a165-5c03f40ace58",
   "metadata": {},
   "outputs": [
    {
     "data": {
      "text/plain": [
       "'bca'"
      ]
     },
     "execution_count": 86,
     "metadata": {},
     "output_type": "execute_result"
    }
   ],
   "source": [
    "def rotate_string(string, num):\n",
    "    # handles the edge case when a blank str is passed through\n",
    "    if string == \"\":\n",
    "        return string\n",
    "\n",
    "    # handles the number if n > the length of the string given, otherwise supplies the exact same n supplied\n",
    "    num = num % len(string)\n",
    "\n",
    "    # Using slicing, we grab the right most character (using negitive indexs) and concat them on to the front, while grabbing the rest of the word using the same n value of the start point\n",
    "    return string[-num:] + string[:-num:]\n",
    "\n",
    "rotate_string(\"hello\", 2)   # → \"lohel\"\n",
    "\n",
    "rotate_string(\"abc\", 5)     # → \"cab\"\n",
    "\n",
    "#rotate_string(\"\", 5)        # → \"\""
   ]
  },
  {
   "cell_type": "code",
   "execution_count": null,
   "id": "7b1ba8e4-540b-4557-8a51-40288a591321",
   "metadata": {},
   "outputs": [],
   "source": []
  }
 ],
 "metadata": {
  "kernelspec": {
   "display_name": "Python 3 (ipykernel)",
   "language": "python",
   "name": "python3"
  },
  "language_info": {
   "codemirror_mode": {
    "name": "ipython",
    "version": 3
   },
   "file_extension": ".py",
   "mimetype": "text/x-python",
   "name": "python",
   "nbconvert_exporter": "python",
   "pygments_lexer": "ipython3",
   "version": "3.13.0"
  }
 },
 "nbformat": 4,
 "nbformat_minor": 5
}
